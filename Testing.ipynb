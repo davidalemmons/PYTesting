{
 "cells": [
  {
   "cell_type": "code",
   "execution_count": 1,
   "id": "e814dbe8-cf02-4f52-8595-d0551cc3f56a",
   "metadata": {},
   "outputs": [
    {
     "ename": "ModuleNotFoundError",
     "evalue": "No module named 'my_sum'",
     "output_type": "error",
     "traceback": [
      "\u001b[1;31m---------------------------------------------------------------------------\u001b[0m",
      "\u001b[1;31mModuleNotFoundError\u001b[0m                       Traceback (most recent call last)",
      "Cell \u001b[1;32mIn[1], line 3\u001b[0m\n\u001b[0;32m      1\u001b[0m \u001b[38;5;28;01mimport\u001b[39;00m \u001b[38;5;21;01munittest\u001b[39;00m\n\u001b[1;32m----> 3\u001b[0m \u001b[38;5;28;01mfrom\u001b[39;00m \u001b[38;5;21;01mmy_sum\u001b[39;00m \u001b[38;5;28;01mimport\u001b[39;00m \u001b[38;5;28msum\u001b[39m\n\u001b[0;32m      4\u001b[0m \u001b[38;5;28;01mfrom\u001b[39;00m \u001b[38;5;21;01mfractions\u001b[39;00m \u001b[38;5;28;01mimport\u001b[39;00m Fraction\n\u001b[0;32m      7\u001b[0m \u001b[38;5;28;01mclass\u001b[39;00m \u001b[38;5;21;01mTestSum\u001b[39;00m(unittest\u001b[38;5;241m.\u001b[39mTestCase):\n",
      "\u001b[1;31mModuleNotFoundError\u001b[0m: No module named 'my_sum'"
     ]
    }
   ],
   "source": [
    "import unittest\n",
    "\n",
    "from my_sum import sum\n",
    "from fractions import Fraction\n",
    "\n",
    "\n",
    "class TestSum(unittest.TestCase):\n",
    "    def test_list_int(self):\n",
    "        \"\"\"\n",
    "        Test that it can sum a list of integers\n",
    "        \"\"\"\n",
    "        data = [1, 2, 3]\n",
    "        result = sum(data)\n",
    "        self.assertEqual(result, 6)\n",
    "\n",
    "    def test_list_fraction(self):\n",
    "        \"\"\"\n",
    "        Test that it can sum a list of fractions\n",
    "        \"\"\"\n",
    "        data = [Fraction(1, 4), Fraction(1, 4), Fraction(2, 5)]\n",
    "        result = sum(data)\n",
    "        self.assertEqual(result, 1)\n",
    "\n",
    "    def test_bad_type(self):\n",
    "        data = \"banana\"\n",
    "        with self.assertRaises(TypeError):\n",
    "            result = sum(data)\n",
    "\n",
    "if __name__ == '__main__':\n",
    "    unittest.main()\n",
    "\n",
    "#The test results show that one of the tests, test_list_fraction, failed because the program returned Fraction(9, 10) instead of the expected result of 1 when summing a list of fractions. This failure, indicated by an \"AssertionError,\" means that the actual output didn’t match the expected output. Out of two tests, one passed while the other failed, suggesting there may be an issue in the code handling the fraction addition or an error in the test’s expectations. To fix this, the code or the test needs to be reviewed and corrected so that both align and the test passes in the future.\n"
   ]
  }
 ],
 "metadata": {
  "kernelspec": {
   "display_name": "Python 3 (ipykernel)",
   "language": "python",
   "name": "python3"
  },
  "language_info": {
   "codemirror_mode": {
    "name": "ipython",
    "version": 3
   },
   "file_extension": ".py",
   "mimetype": "text/x-python",
   "name": "python",
   "nbconvert_exporter": "python",
   "pygments_lexer": "ipython3",
   "version": "3.12.4"
  }
 },
 "nbformat": 4,
 "nbformat_minor": 5
}
